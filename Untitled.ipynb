{
 "cells": [
  {
   "cell_type": "code",
   "execution_count": 1,
   "metadata": {
    "collapsed": true
   },
   "outputs": [],
   "source": [
    "#from numpy import *\n",
    "import numpy as np\n",
    "#from matplotlib.pyplot import *\n",
    "import matplotlib.pyplot as plt\n",
    "#import scipy.linalg\n",
    "from scipy import linalg\n",
    "#from numpy import linalg\n",
    "\n",
    "def set_seed(seed=None):\n",
    "    \"\"\"Making the seed (for random values) variable if None\"\"\"\n",
    "\n",
    "    # Set the seed\n",
    "    if seed is None:\n",
    "        import time\n",
    "        seed = int((time.time()*10**6) % 10**12)\n",
    "    try:\n",
    "        np.random.seed(seed)\n",
    "        print(\"Seed used for random values:\", seed)\n",
    "    except:\n",
    "        print(\"!!! WARNING !!!: Seed was not set correctly.\")\n",
    "    return seed\n",
    "\n",
    "# load the data\n",
    "trainLen = 2000\n",
    "testLen = 2000\n",
    "initLen = 100"
   ]
  },
  {
   "cell_type": "code",
   "execution_count": 2,
   "metadata": {
    "collapsed": false
   },
   "outputs": [
    {
     "name": "stdout",
     "output_type": "stream",
     "text": [
      "!!! WARNING !!!: Seed was not set correctly.\n",
      "Computing spectral radius...\n",
      "done.\n",
      "MSE = 2.3564157018e-08\n"
     ]
    }
   ],
   "source": [
    "data = np.loadtxt('MackeyGlass_t17.txt')\n",
    "\n",
    "# plot some of it\n",
    "plt.figure(0).clear()\n",
    "plt.plot(data[0:1000])\n",
    "plt.ylim([-1.1,1.1])\n",
    "plt.title('A sample of input data')\n",
    "\n",
    "# generate the ESN reservoir\n",
    "inSize = outSize = 1 #input/output dimension\n",
    "resSize = 300 #reservoir size (for prediction)\n",
    "#resSize = 1000 #reservoir size (for generation)\n",
    "a = 0.3 # leaking rate\n",
    "spectral_radius = 1.25\n",
    "input_scaling = 1.\n",
    "reg =  1e-8 #None # regularization coefficient, if None,\n",
    "#pseudo-inverse is use instead of ridge regression\n",
    "\n",
    "mode = 'prediction'\n",
    "#mode = 'generative'\n",
    "\n",
    "#change the seed, reservoir performances should be averaged accross\n",
    "#at least 20 random instances (with the same set of parameters)\n",
    "seed = None #42\n",
    "\n",
    "set_seed(seed) #random.seed(seed) \n",
    "Win = (np.random.rand(resSize,1+inSize)-0.5) * input_scaling\n",
    "W = np.random.rand(resSize,resSize)-0.5 \n",
    "# Option 1 - direct scaling (quick&dirty, reservoir-specific):\n",
    "#W *= 0.135 \n",
    "# Option 2 - normalizing and setting spectral radius (correct, slow):\n",
    "print('Computing spectral radius...',)\n",
    "rhoW = max(abs(linalg.eig(W)[0]))\n",
    "#np_rhoW = max(abs(np.linalg.eig(W)[0]))\n",
    "#print \"Difference between scipy and numpy .eig() method: scipy=\"+str(rhoW)+\" numpy=\"+str(np_rhoW)\n",
    "print('done.')\n",
    "W *= spectral_radius / rhoW\n",
    "\n",
    "# allocated memory for the design (collected states) matrix\n",
    "X = np.zeros((1+inSize+resSize,trainLen-initLen))\n",
    "# set the corresponding target matrix directly\n",
    "Yt = data[None,initLen+1:trainLen+1] \n",
    "\n",
    "# run the reservoir with the data and collect X\n",
    "x = np.zeros((resSize,1))\n",
    "for t in range(trainLen):\n",
    "    u = data[t]\n",
    "    x = (1-a)*x + a*np.tanh( np.dot( Win, np.vstack((1,u)) ) + np.dot( W, x ) )\n",
    "    if t >= initLen:\n",
    "        X[:,t-initLen] = np.vstack((1,u,x))[:,0]\n",
    "    \n",
    "# train the output\n",
    "X_T = X.T\n",
    "if reg is not None:\n",
    "    # use ridge regression (linear regression with regularization)\n",
    "    Wout = np.dot(np.dot(Yt,X_T), linalg.inv(np.dot(X,X_T) + \\\n",
    "        reg*np.eye(1+inSize+resSize) ) )\n",
    "    ### Just if you want to try the difference between scipy.linalg and numpy.linalg which does not give the same results\n",
    "        ### For more info, see https://www.scipy.org/scipylib/faq.html#why-both-numpy-linalg-and-scipy-linalg-what-s-the-difference\n",
    "#    np_Wout = np.dot(np.dot(Yt,X_T), np.linalg.inv(np.dot(X,X_T) + \\\n",
    "#        reg*np.eye(1+inSize+resSize) ) )\n",
    "#    print \"Difference between scipy and numpy .inv() method:\\n\\tscipy_mean_Wout=\"+\\\n",
    "#        str(np.mean(Wout))+\"\\n\\tnumpy_mean_Wout=\"+str(np.mean(np_Wout))\n",
    "else:\n",
    "    # use pseudo inverse\n",
    "    Wout = np.dot( Yt, linalg.pinv(X) )\n",
    "\n",
    "# run the trained ESN in a generative mode. no need to initialize here, \n",
    "# because x is initialized with training data and we continue from there.\n",
    "Y = np.zeros((outSize,testLen))\n",
    "u = data[trainLen]\n",
    "for t in range(testLen):\n",
    "    x = (1-a)*x + a*np.tanh( np.dot( Win, np.vstack((1,u)) ) + np.dot( W, x ) )\n",
    "    y = np.dot( Wout, np.vstack((1,u,x)) )\n",
    "    Y[:,t] = y\n",
    "    if mode == 'generative':\n",
    "        # generative mode:\n",
    "        u = y\n",
    "    elif mode == 'prediction':\n",
    "        ## predictive mode:\n",
    "        u = data[trainLen+t+1] \n",
    "    else:\n",
    "        raise(Exception, \"ERROR: 'mode' was not set correctly.\")\n",
    "\n",
    "# compute MSE for the first errorLen time steps\n",
    "errorLen = 500\n",
    "mse = sum( np.square( data[trainLen+1:trainLen+errorLen+1] - Y[0,0:errorLen] ) ) / errorLen\n",
    "print('MSE = ' + str( mse ))"
   ]
  },
  {
   "cell_type": "code",
   "execution_count": 3,
   "metadata": {
    "collapsed": false
   },
   "outputs": [
    {
     "ename": "SyntaxError",
     "evalue": "invalid syntax (<ipython-input-3-2344fababa2c>, line 2)",
     "output_type": "error",
     "traceback": [
      "\u001b[1;36m  File \u001b[1;32m\"<ipython-input-3-2344fababa2c>\"\u001b[1;36m, line \u001b[1;32m2\u001b[0m\n\u001b[1;33m    def plot_figure1(data, trainLen, testLen, Y.T) :\u001b[0m\n\u001b[1;37m                                               ^\u001b[0m\n\u001b[1;31mSyntaxError\u001b[0m\u001b[1;31m:\u001b[0m invalid syntax\n"
     ]
    }
   ],
   "source": [
    "# plot some signals\n",
    "def plot_figure1(data, trainLen, testLen, Y.T) :\n",
    "    plt.figure(1).clear()\n",
    "    plt.plot( data[trainLen+1:trainLen+testLen+1], 'g' )\n",
    "    plt.plot( Y.T, 'b' )\n",
    "    plt.title('Target and generated signals $y(n)$ starting at $n=0$')\n",
    "    if mode == 'generative':\n",
    "        plt.legend(['Target signal', 'Free-running predicted signal'])\n",
    "    elif mode == 'prediction':\n",
    "        plt.legend(['Target signal', 'Predicted signal'])"
   ]
  },
  {
   "cell_type": "code",
   "execution_count": null,
   "metadata": {
    "collapsed": true
   },
   "outputs": [],
   "source": [
    "plot_figure1(data, trainLen, testLen, Y.T)"
   ]
  }
 ],
 "metadata": {
  "kernelspec": {
   "display_name": "Python 3",
   "language": "python",
   "name": "python3"
  },
  "language_info": {
   "codemirror_mode": {
    "name": "ipython",
    "version": 3
   },
   "file_extension": ".py",
   "mimetype": "text/x-python",
   "name": "python",
   "nbconvert_exporter": "python",
   "pygments_lexer": "ipython3",
   "version": "3.5.1"
  }
 },
 "nbformat": 4,
 "nbformat_minor": 0
}
