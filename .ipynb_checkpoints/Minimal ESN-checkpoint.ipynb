{
 "cells": [
  {
   "cell_type": "markdown",
   "metadata": {},
   "source": [
    "# Réseaux de neurones : Echo State Network"
   ]
  },
  {
   "cell_type": "markdown",
   "metadata": {},
   "source": [
    "## Une brève introduction"
   ]
  },
  {
   "cell_type": "markdown",
   "metadata": {},
   "source": [
    "Les premières modélisations informatiques de neurones et de réseaux datent des années 1940. Appliquées à l'intelligence artificielle, les réseaux de neurones ont permis, notamment grâce à l'introduction du <b>perceptron</b>, de permettre à la machine d'\"apprendre\" par elle-même."
   ]
  },
  {
   "cell_type": "code",
   "execution_count": 2,
   "metadata": {
    "collapsed": true
   },
   "outputs": [],
   "source": [
    "%matplotlib inline"
   ]
  },
  {
   "cell_type": "markdown",
   "metadata": {},
   "source": [
    "## Importation des modules"
   ]
  },
  {
   "cell_type": "code",
   "execution_count": null,
   "metadata": {
    "collapsed": true
   },
   "outputs": [],
   "source": [
    "# -*- coding: utf-8 -*-\n",
    "\"\"\"\n",
    "A minimalistic Echo State Networks demo with Mackey-Glass (delay 17) data \n",
    "in \"plain\" scientific Python.\n",
    "by Mantas LukoÅ¡eviÄ?ius 2012\n",
    "http://minds.jacobs-university.de/mantas\n",
    "---\n",
    "Modified by Xavier Hinaut: 2015-2016\n",
    "http://www.xavierhinaut.com\n",
    "\"\"\"\n",
    "#from numpy import *\n",
    "import numpy as np\n",
    "#from matplotlib.pyplot import *\n",
    "import matplotlib.pyplot as plt\n",
    "#import scipy.linalg\n",
    "from scipy import linalg\n",
    "#from numpy import linalg\n",
    "from ipywidgets import *"
   ]
  },
  {
   "cell_type": "markdown",
   "metadata": {},
   "source": [
    "## Remise à zéro de l'aléatoire"
   ]
  },
  {
   "cell_type": "code",
   "execution_count": null,
   "metadata": {
    "collapsed": true
   },
   "outputs": [],
   "source": [
    "def set_seed(seed=None):\n",
    "    \"\"\"Making the seed (for random values) variable if None\"\"\"\n",
    "\n",
    "    # Set the seed\n",
    "    if seed is None:\n",
    "        import time\n",
    "        seed = int((time.time()*10**6) % 4294967295)\n",
    "    try:\n",
    "        np.random.seed(seed)\n",
    "        print(\"Seed used for random values:\", seed)\n",
    "    except:\n",
    "        print(\"!!! WARNING !!!: Seed was not set correctly.\")\n",
    "    return seed"
   ]
  },
  {
   "cell_type": "markdown",
   "metadata": {},
   "source": [
    "## Création d'une classe \"Réseau\""
   ]
  },
  {
   "cell_type": "code",
   "execution_count": null,
   "metadata": {
    "collapsed": false
   },
   "outputs": [],
   "source": [
    "class Reseau(object) :\n",
    "    \n",
    "    def __init__(self, a=0.03) :\n",
    "        self.a = a\n",
    "        self.spectral_radius = 1.25\n",
    "        self.input_scaling = 1.\n",
    "        self.resSize = 300\n",
    "        self.inSize = 1\n",
    "        self.outSize = 1\n",
    "        self.reg =  1e-8"
   ]
  },
  {
   "cell_type": "markdown",
   "metadata": {},
   "source": [
    "## Chargement des données"
   ]
  },
  {
   "cell_type": "code",
   "execution_count": null,
   "metadata": {
    "collapsed": false
   },
   "outputs": [],
   "source": [
    "# load the data\n",
    "trainLen = 2000\n",
    "testLen = 2000\n",
    "initLen = 100\n",
    "\n",
    "data = np.loadtxt('MackeyGlass_t17.txt')"
   ]
  },
  {
   "cell_type": "markdown",
   "metadata": {},
   "source": [
    "## Affichage dynamique d'un échantillon de données"
   ]
  },
  {
   "cell_type": "code",
   "execution_count": null,
   "metadata": {
    "collapsed": false
   },
   "outputs": [],
   "source": [
    "# plot some of it\n",
    "def plot_figure(f) :\n",
    "    plt.figure(0).clear()\n",
    "    plt.plot(data[0:f])\n",
    "    plt.ylim([-1.1,1.1])\n",
    "    plt.title('A sample of input data')\n",
    "    plt.show()\n",
    "    \n",
    "interact(plot_figure, f=(1000,10000,1000))"
   ]
  },
  {
   "cell_type": "markdown",
   "metadata": {},
   "source": [
    "## Variables"
   ]
  },
  {
   "cell_type": "code",
   "execution_count": null,
   "metadata": {
    "collapsed": true
   },
   "outputs": [],
   "source": [
    "# generate the ESN reservoir\n",
    "inSize = outSize = 1 #input/output dimension\n",
    "resSize = 300 #reservoir size (for prediction)\n",
    "#resSize = 1000 #reservoir size (for generation)\n",
    "a = 0.3 # leaking rate\n",
    "spectral_radius = 1.25\n",
    "input_scaling = 1.\n",
    "reg =  1e-8 #None # regularization coefficient, if None, pseudo-inverse is use instead of ridge regression\n",
    "mode = 'prediction'\n",
    "#mode = 'generative'"
   ]
  },
  {
   "cell_type": "code",
   "execution_count": null,
   "metadata": {
    "collapsed": true
   },
   "outputs": [],
   "source": [
    "#class reseau1 variables\n",
    "reseau1 = Reseau()\n",
    "reseau1.Win = (np.random.rand(reseau1.resSize,1+reseau1.inSize)-0.5) * reseau1.input_scaling\n",
    "reseau1.W = np.random.rand(reseau1.resSize,reseau1.resSize)-0.5\n",
    "reseau1.rhoW = max(abs(linalg.eig(reseau1.W)[0]))\n",
    "reseau1.W *= reseau1.spectral_radius / rhoW"
   ]
  },
  {
   "cell_type": "code",
   "execution_count": null,
   "metadata": {
    "collapsed": false
   },
   "outputs": [],
   "source": [
    "#change the seed, reservoir performances should be averaged accross\n",
    "#at least 20 random instances (with the same set of parameters)\n",
    "seed = None #42\n",
    "set_seed(seed) #random.seed(seed) \n",
    "\n",
    "Win = (np.random.rand(resSize,1+inSize)-0.5) * input_scaling\n",
    "W = np.random.rand(resSize,resSize)-0.5\n",
    "\n",
    "# Option 1 - direct scaling (quick&dirty, reservoir-specific):\n",
    "#W *= 0.135 \n",
    "\n",
    "# Option 2 - normalizing and setting spectral radius (correct, slow):\n",
    "print('Computing spectral radius...',)\n",
    "rhoW = max(abs(linalg.eig(W)[0]))\n",
    "#np_rhoW = max(abs(np.linalg.eig(W)[0]))\n",
    "#print \"Difference between scipy and numpy .eig() method: scipy=\"+str(rhoW)+\" numpy=\"+str(np_rhoW)\n",
    "print('done.')\n",
    "W *= spectral_radius / rhoW"
   ]
  },
  {
   "cell_type": "code",
   "execution_count": null,
   "metadata": {
    "collapsed": false,
    "scrolled": true
   },
   "outputs": [],
   "source": [
    "# allocated memory for the design (collected states) matrix\n",
    "reseau1.X = np.zeros((1+inSize+resSize,trainLen-initLen))\n",
    "print(\"Taille de X :\", X.shape, \"- Eléments :\", X.size)\n",
    "\n",
    "# set the corresponding target matrix directly\n",
    "reseau1.Yt = data[None,initLen+1:trainLen+1] \n",
    "print(\"Taille de Yt :\", Yt.shape)\n",
    "\n",
    "# run the reservoir with the data and collect X\n",
    "reseau1.x = np.zeros((resSize,1))\n",
    "print(\"Taille de x :\", x.shape)\n",
    "\n",
    "def reseau(data, res, initLen) :\n",
    "    for t in range(trainLen):\n",
    "        u = data[t]\n",
    "        res.x = (1-res.a)*x + res.a*np.tanh( np.dot( res.Win, np.vstack((1,u)) ) + np.dot( res.W, res.x ) )\n",
    "        if t >= initLen:\n",
    "            res.X[:,t-initLen] = np.vstack((1,u,res.x))[:,0]\n",
    "            \n",
    "reseau(data, reseau1, initLen)"
   ]
  },
  {
   "cell_type": "code",
   "execution_count": null,
   "metadata": {
    "collapsed": false
   },
   "outputs": [],
   "source": [
    "# train the output\n",
    "reseau1.X_T = reseau1.X.T\n",
    "if reg is not None:\n",
    "    # use ridge regression (linear regression with regularization)\n",
    "    reseau1.Wout = np.dot(np.dot(reseau1.Yt,reseau1.X_T), linalg.inv(np.dot(reseau1.X,reseau1.X_T) + \\\n",
    "        reg*np.eye(1+reseau1.inSize+reseau1.resSize) ) )\n",
    "    ### Just if you want to try the difference between scipy.linalg and numpy.linalg which does not give the same results\n",
    "        ### For more info, see \n",
    "        ### https://www.scipy.org/scipylib/faq.html#why-both-numpy-linalg-and-scipy-linalg-what-s-the-difference\n",
    "#    np_Wout = np.dot(np.dot(Yt,X_T), np.linalg.inv(np.dot(X,X_T) + \\\n",
    "#        reg*np.eye(1+inSize+resSize) ) )\n",
    "#    print \"Difference between scipy and numpy .inv() method:\\n\\tscipy_mean_Wout=\"+\\\n",
    "#        str(np.mean(Wout))+\"\\n\\tnumpy_mean_Wout=\"+str(np.mean(np_Wout))\n",
    "else:\n",
    "    # use pseudo inverse\n",
    "    reseau1.Wout = np.dot( reseau1.Yt, linalg.pinv(reseau1.X) )"
   ]
  },
  {
   "cell_type": "code",
   "execution_count": null,
   "metadata": {
    "collapsed": true
   },
   "outputs": [],
   "source": [
    "# run the trained ESN in a generative mode. no need to initialize here, \n",
    "# because x is initialized with training data and we continue from there.\n",
    "reseau1.Y = np.zeros((outSize,testLen))\n",
    "u = data[trainLen]\n",
    "\n",
    "def rereseau(data, res, initLen) :\n",
    "    for t in range(testLen):\n",
    "        res.x = (1-res.a)*res.x + res.a*np.tanh( np.dot( Win, np.vstack((1,u)) ) + np.dot( res.W, res.x ) )\n",
    "        res.y = np.dot( res.Wout, np.vstack((1,u,res.x)) )\n",
    "        res.Y[:,t] = res.y\n",
    "        if mode == 'generative':\n",
    "            # generative mode:\n",
    "            u = res.y\n",
    "        elif mode == 'prediction':\n",
    "            ## predictive mode:\n",
    "            u = data[trainLen+t+1] \n",
    "        else:\n",
    "            raise(Exception, \"ERROR: 'mode' was not set correctly.\")"
   ]
  },
  {
   "cell_type": "code",
   "execution_count": null,
   "metadata": {
    "collapsed": false
   },
   "outputs": [],
   "source": [
    "# compute MSE for the first errorLen time steps\n",
    "errorLen = 500\n",
    "mse = sum( np.square( data[trainLen+1:trainLen+errorLen+1] - res.Y[0,0:errorLen] ) ) / errorLen\n",
    "print('MSE = ' + str( mse ))\n",
    "    \n",
    "# plot some signals\n",
    "def plot_figure1(data, res, trainLen, testLen) :\n",
    "    plt.figure(1).clear()\n",
    "    plt.plot( data[trainLen+1:trainLen+testLen+1], 'g' )\n",
    "    plt.plot( res.Y.T, 'b' )\n",
    "    plt.title('Target and generated signals $y(n)$ starting at $n=0$')\n",
    "    if mode == 'generative':\n",
    "        plt.legend(['Target signal', 'Free-running predicted signal'])\n",
    "    elif mode == 'prediction':\n",
    "        plt.legend(['Target signal', 'Predicted signal'])\n",
    "        \n",
    "plot_figure1(data, reseau1, trainLen, testLen)"
   ]
  },
  {
   "cell_type": "code",
   "execution_count": null,
   "metadata": {
    "collapsed": true
   },
   "outputs": [],
   "source": []
  },
  {
   "cell_type": "code",
   "execution_count": null,
   "metadata": {
    "collapsed": true
   },
   "outputs": [],
   "source": []
  },
  {
   "cell_type": "code",
   "execution_count": null,
   "metadata": {
    "collapsed": true
   },
   "outputs": [],
   "source": []
  },
  {
   "cell_type": "code",
   "execution_count": null,
   "metadata": {
    "collapsed": true
   },
   "outputs": [],
   "source": []
  }
 ],
 "metadata": {
  "kernelspec": {
   "display_name": "Python 3",
   "language": "python",
   "name": "python3"
  },
  "language_info": {
   "codemirror_mode": {
    "name": "ipython",
    "version": 3
   },
   "file_extension": ".py",
   "mimetype": "text/x-python",
   "name": "python",
   "nbconvert_exporter": "python",
   "pygments_lexer": "ipython3",
   "version": "3.5.1"
  }
 },
 "nbformat": 4,
 "nbformat_minor": 0
}
