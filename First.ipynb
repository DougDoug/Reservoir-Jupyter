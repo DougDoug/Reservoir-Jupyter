{
 "cells": [
  {
   "cell_type": "code",
   "execution_count": 1,
   "metadata": {
    "collapsed": true
   },
   "outputs": [],
   "source": [
    "from numpy import *\n",
    "from matplotlib.pyplot import *\n",
    "import scipy.linalg"
   ]
  },
  {
   "cell_type": "code",
   "execution_count": null,
   "metadata": {
    "collapsed": true
   },
   "outputs": [],
   "source": []
  },
  {
   "cell_type": "code",
   "execution_count": 2,
   "metadata": {
    "collapsed": true
   },
   "outputs": [],
   "source": [
    "# load the data\n",
    "trainLen = 2000\n",
    "testLen = 2000\n",
    "initLen = 100\n",
    "\n",
    "data = loadtxt('MackeyGlass_t17.txt')"
   ]
  },
  {
   "cell_type": "code",
   "execution_count": 3,
   "metadata": {
    "collapsed": true
   },
   "outputs": [],
   "source": [
    "def set_seed(self, seed=None):\n",
    "    \"\"\"Making the seed (for random values) variable if None\"\"\"\n",
    "\n",
    "    # Set the seed\n",
    "    if seed is None:\n",
    "        import time\n",
    "        seed = int((time.time()*10**6) % 10**12)\n",
    "    try:\n",
    "        np.random.seed(seed)\n",
    "        print(\"Seed used for random values:\", seed)\n",
    "    except:\n",
    "        print( \"!!! WARNING !!!: Seed was not set correctly.\")\n",
    "    return seed"
   ]
  },
  {
   "cell_type": "code",
   "execution_count": 4,
   "metadata": {
    "collapsed": false
   },
   "outputs": [
    {
     "data": {
      "text/plain": [
       "<matplotlib.text.Text at 0x951150f828>"
      ]
     },
     "execution_count": 4,
     "metadata": {},
     "output_type": "execute_result"
    }
   ],
   "source": [
    "# plot some of it\n",
    "figure(10).clear()\n",
    "plot(data[0:1000])\n",
    "title('A sample of data')\n"
   ]
  },
  {
   "cell_type": "code",
   "execution_count": 5,
   "metadata": {
    "collapsed": true
   },
   "outputs": [],
   "source": [
    "# generate the ESN reservoir\n",
    "inSize = outSize = 1 #input/output dimension\n",
    "resSize = 300 #reservoir size (for prediction)\n",
    "#resSize = 1000 #reservoir size (for generation)\n",
    "a = 0.3 # leaking rate\n",
    "spectral_radius = 1.25\n",
    "input_scaling = 1.\n",
    "reg = 1e-8  # regularization coefficient\n",
    "\n",
    "mode = 'prediction'\n",
    "#mode = 'generative'"
   ]
  },
  {
   "cell_type": "code",
   "execution_count": 6,
   "metadata": {
    "collapsed": false
   },
   "outputs": [
    {
     "name": "stdout",
     "output_type": "stream",
     "text": [
      "!!! WARNING !!!: Seed was not set correctly.\n",
      "Computing spectral radius...\n",
      "done.\n"
     ]
    }
   ],
   "source": [
    "#change the seed, reservoir performances should be averaged accross at least 20 random instances (with the same set of parameters)\n",
    "seed = None #42\n",
    "\n",
    "set_seed(seed) #random.seed(seed) \n",
    "Win = (random.rand(resSize,1+inSize)-0.5) * input_scaling\n",
    "W = random.rand(resSize,resSize)-0.5 \n",
    "# Option 1 - direct scaling (quick&dirty, reservoir-specific):\n",
    "#W *= 0.135 \n",
    "# Option 2 - normalizing and setting spectral radius (correct, slow):\n",
    "print('Computing spectral radius...',)\n",
    "rhoW = max(abs(linalg.eig(W)[0]))\n",
    "print ('done.')\n",
    "W *= spectral_radius / rhoW"
   ]
  },
  {
   "cell_type": "code",
   "execution_count": 7,
   "metadata": {
    "collapsed": true
   },
   "outputs": [],
   "source": [
    "# allocated memory for the design (collected states) matrix\n",
    "X = zeros((1+inSize+resSize,trainLen-initLen))\n",
    "# set the corresponding target matrix directly\n",
    "Yt = data[None,initLen+1:trainLen+1] \n",
    "\n",
    "# run the reservoir with the data and collect X\n",
    "x = zeros((resSize,1))\n",
    "for t in range(trainLen):\n",
    "    u = data[t]\n",
    "    x = (1-a)*x + a*tanh( dot( Win, vstack((1,u)) ) + dot( W, x ) )\n",
    "    if t >= initLen:\n",
    "        X[:,t-initLen] = vstack((1,u,x))[:,0]"
   ]
  },
  {
   "cell_type": "code",
   "execution_count": 8,
   "metadata": {
    "collapsed": true
   },
   "outputs": [],
   "source": [
    "# train the output\n",
    "X_T = X.T\n",
    "# use ridge regression (linear regression with regularization)\n",
    "Wout = dot( dot(Yt,X_T), linalg.inv( dot(X,X_T) + \\\n",
    "    reg*eye(1+inSize+resSize) ) )\n",
    "# use pseudo inverse\n",
    "#Wout = dot( Yt, linalg.pinv(X) )\n",
    "\n",
    "# run the trained ESN in a generative mode. no need to initialize here, \n",
    "# because x is initialized with training data and we continue from there.\n",
    "Y = zeros((outSize,testLen))\n",
    "u = data[trainLen]"
   ]
  },
  {
   "cell_type": "code",
   "execution_count": 9,
   "metadata": {
    "collapsed": true
   },
   "outputs": [],
   "source": [
    "for t in range(testLen):\n",
    "    x = (1-a)*x + a*tanh( dot( Win, vstack((1,u)) ) + dot( W, x ) )\n",
    "    y = dot( Wout, vstack((1,u,x)) )\n",
    "    Y[:,t] = y\n",
    "    if mode == 'generative':\n",
    "        # generative mode:\n",
    "        u = y\n",
    "    elif mode == 'prediction':\n",
    "        ## predictive mode:\n",
    "        u = data[trainLen+t+1] \n",
    "    else:\n",
    "        raise(Exception, \"ERROR: 'mode' was not set correctly.\")"
   ]
  },
  {
   "cell_type": "code",
   "execution_count": 10,
   "metadata": {
    "collapsed": false
   },
   "outputs": [
    {
     "data": {
      "text/plain": [
       "<matplotlib.text.Text at 0x950a684a20>"
      ]
     },
     "execution_count": 10,
     "metadata": {},
     "output_type": "execute_result"
    }
   ],
   "source": [
    "# plot some signals\n",
    "figure(1).clear()\n",
    "plot( data[trainLen+1:trainLen+testLen+1], 'g' )\n",
    "plot( Y.T, 'b' )\n",
    "title('Target and generated signals $y(n)$ starting at $n=0$')\n",
    "if mode == 'generative':\n",
    "    legend(['Target signal', 'Free-running predicted signal'])\n",
    "elif mode == 'prediction':\n",
    "    legend(['Target signal', 'Predicted signal'])\n",
    "\n",
    "figure(2).clear()\n",
    "#plot( X[0:20,0:200].T )\n",
    "plot( X[0:20,0:2000].T ) #xav\n",
    "title('Some reservoir activations $\\mathbf{x}(n)$')"
   ]
  },
  {
   "cell_type": "code",
   "execution_count": 11,
   "metadata": {
    "collapsed": true
   },
   "outputs": [],
   "source": [
    "figure(3).clear()\n",
    "plot( X[0:20,0:200].T )\n",
    "title('Some reservoir activations $\\mathbf{x}(n)$')\n",
    "\n",
    "figure(4).clear()\n",
    "plot( X[:,0:200].T )\n",
    "title('Some reservoir activations $\\mathbf{x}(n)$')\n",
    "\n",
    "figure(5).clear()\n",
    "bar( range(1+inSize+resSize), Wout.T )\n",
    "title('Output weights $\\mathbf{W}^{out}$')\n",
    "\n",
    "show()"
   ]
  },
  {
   "cell_type": "code",
   "execution_count": null,
   "metadata": {
    "collapsed": true
   },
   "outputs": [],
   "source": []
  }
 ],
 "metadata": {
  "kernelspec": {
   "display_name": "Python 3",
   "language": "python",
   "name": "python3"
  },
  "language_info": {
   "codemirror_mode": {
    "name": "ipython",
    "version": 3
   },
   "file_extension": ".py",
   "mimetype": "text/x-python",
   "name": "python",
   "nbconvert_exporter": "python",
   "pygments_lexer": "ipython3",
   "version": "3.5.1"
  }
 },
 "nbformat": 4,
 "nbformat_minor": 0
}
