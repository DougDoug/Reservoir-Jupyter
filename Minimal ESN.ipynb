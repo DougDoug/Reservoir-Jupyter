{
 "cells": [
  {
   "cell_type": "markdown",
   "metadata": {},
   "source": [
    "# Réseaux de neurones : Echo State Network"
   ]
  },
  {
   "cell_type": "markdown",
   "metadata": {},
   "source": [
    "## Une brève introduction"
   ]
  },
  {
   "cell_type": "markdown",
   "metadata": {},
   "source": [
    "Un <i>echo state network</i> est un réseau de neurones récurrents dont le réservoir est composé de neurones générés aléatoirement, et dont seuls les poids des sorties (donc entre le réservoir et la sortie) peuvent être modifiés. Nous allons ici développer un modèle d'ESN, développé par Mantas Lukoševičius."
   ]
  },
  {
   "cell_type": "code",
   "execution_count": 131,
   "metadata": {
    "collapsed": true
   },
   "outputs": [],
   "source": [
    "%matplotlib inline"
   ]
  },
  {
   "cell_type": "markdown",
   "metadata": {},
   "source": [
    "## Importation des modules"
   ]
  },
  {
   "cell_type": "markdown",
   "metadata": {},
   "source": [
    "Commençons par importer les modules dont nous avons besoin. Outre la commande <i>%matplotlib inline</i> qui permet d'afficher les courbes directement dans le notebook, nous allons avoir besoin de <b>numpy</b> (module numérique destiné à la manipulation de vecteurs et de matrices), de <b>matplotlib</b> (pour tracer les courbes, donc), de <b>scipy</b> (la méthode linalg nous permettra d'importer des fonctions d'algèbre linéaire), ainsi que de widgets issus de <b>IPython</b>, qui nous permettront de rendre les courbes interactives à l'aide de curseurs permettant de modifier les variables en temps réel."
   ]
  },
  {
   "cell_type": "code",
   "execution_count": 132,
   "metadata": {
    "collapsed": false
   },
   "outputs": [],
   "source": [
    "# -*- coding: utf-8 -*-\n",
    "\"\"\"\n",
    "A minimalistic Echo State Networks demo with Mackey-Glass (delay 17) data \n",
    "in \"plain\" scientific Python.\n",
    "by Mantas Lukoševičius 2012\n",
    "http://minds.jacobs-university.de/mantas\n",
    "---\n",
    "Modified by Xavier Hinaut: 2015-2016\n",
    "http://www.xavierhinaut.com\n",
    "\"\"\"\n",
    "#from numpy import *\n",
    "import numpy as np\n",
    "#from matplotlib.pyplot import *\n",
    "import matplotlib.pyplot as plt\n",
    "#import scipy.linalg\n",
    "from scipy import linalg\n",
    "#from numpy import linalg\n",
    "from ipywidgets import *\n",
    "from IPython.display import *"
   ]
  },
  {
   "cell_type": "markdown",
   "metadata": {},
   "source": [
    "## Remise à zéro de l'aléatoire"
   ]
  },
  {
   "cell_type": "markdown",
   "metadata": {},
   "source": [
    "Ensuite, on va initier une première valeur pseudo-aléatoire en fonction du moment auquel est lancé le programme. Cela permet de s'assurer que deux exécutions du programme ne donneront pas le même résultat."
   ]
  },
  {
   "cell_type": "code",
   "execution_count": 133,
   "metadata": {
    "collapsed": false
   },
   "outputs": [],
   "source": [
    "def set_seed(seed=None):\n",
    "    \"\"\"Making the seed (for random values) variable if None\"\"\"\n",
    "\n",
    "    # Set the seed\n",
    "    if seed is None:\n",
    "        import time\n",
    "        seed = int((time.time()*10**6) % 4294967295)\n",
    "        print(seed)\n",
    "    try:\n",
    "        np.random.seed(seed)\n",
    "        print(\"Seed used for random values:\", seed)\n",
    "    except:\n",
    "        print(\"!!! WARNING !!!: Seed was not set correctly.\")\n",
    "    return seed"
   ]
  },
  {
   "cell_type": "markdown",
   "metadata": {},
   "source": [
    "## Création d'une classe \"Réseau\""
   ]
  },
  {
   "cell_type": "markdown",
   "metadata": {},
   "source": [
    "On crée une classe <i>Réseau</i>. Un objet appartenant à cette classe contiendra, par défaut, quatre attributs :\n",
    "<ul><li><b>trainLen</b></li>\n",
    "<li><b>testLen</b></li>\n",
    "<li><b>initLen</b></li>\n",
    "<li><b>data</b></li></ul>"
   ]
  },
  {
   "cell_type": "code",
   "execution_count": 134,
   "metadata": {
    "collapsed": false
   },
   "outputs": [],
   "source": [
    "class Network(object):\n",
    "\n",
    "    def __init__(self, trainLen=2000, testLen=2000, initLen=100) :\n",
    "        self.trainLen = trainLen\n",
    "        self.testLen = testLen\n",
    "        self.initLen = initLen\n",
    "        self.data = np.loadtxt(\"MackeyGlass_t17.txt\")\n",
    "\n",
    "nw = Network()"
   ]
  },
  {
   "cell_type": "markdown",
   "metadata": {},
   "source": [
    "## Affichage dynamique d'un échantillon de données"
   ]
  },
  {
   "cell_type": "markdown",
   "metadata": {},
   "source": [
    "Nous allons maintenant afficher une partie des données du fichier <i>data</i>, en traçant les 5000 premières itérations. Vous pouvez modifier le nombre d'itérations à afficher en déplaçant le curseur."
   ]
  },
  {
   "cell_type": "code",
   "execution_count": 135,
   "metadata": {
    "collapsed": false
   },
   "outputs": [
    {
     "data": {
      "image/png": "[encoded data removed]",
      "text/plain": [
       "<matplotlib.figure.Figure at 0x19f8a8db1d0>"
      ]
     },
     "metadata": {},
     "output_type": "display_data"
    },
    {
     "data": {
      "text/plain": [
       "<function __main__.plot_figure>"
      ]
     },
     "execution_count": 135,
     "metadata": {},
     "output_type": "execute_result"
    }
   ],
   "source": [
    "# plot some of it\n",
    "def plot_figure(f) :\n",
    "    plt.figure(0).clear()\n",
    "    plt.plot(nw.data[0:f])\n",
    "    plt.ylim([-1.1,1.1])\n",
    "    plt.title('A sample of input data')\n",
    "    plt.show()\n",
    "    \n",
    "interact(plot_figure, f=(1000,10000,1000))"
   ]
  },
  {
   "cell_type": "markdown",
   "metadata": {},
   "source": [
    "## Variables"
   ]
  },
  {
   "cell_type": "markdown",
   "metadata": {},
   "source": [
    "Créons désormais notre réservoir. De base, celui-ci contient 300 neurones (<b>resSize</b>), l'entrée et la sortie sont de taille 1 (<b>inSize et outSize</b>). Cela nous donne un réseau sous cette forme : <img src=\"Reservoir.png\"></img>\n",
    "Les neurones en entrée sont connectés aux neurones du réservoir. On représente donc les poids de chacune des connexions par une matrice <b style=\"color:#99cc00\">W<sub>in</sub></b></p> (de taille inSize x resSize). De même, les connexions des neurones de la sortie sont représentées par la matrice <b style=\"color:#ff0000\">W<sub>out</sub></b> (de taille resSize x outSize). Enfin, dans le réservoir, chaque neurone est lié à tous les autres neurones du réservoir (matrice <b style=\"color:#ffcc00\">W</b>, de taille resSize x resSize)."
   ]
  },
  {
   "cell_type": "code",
   "execution_count": 136,
   "metadata": {
    "collapsed": false
   },
   "outputs": [
    {
     "name": "stdout",
     "output_type": "stream",
     "text": [
      "4216812510\n",
      "Seed used for random values: 4216812510\n"
     ]
    },
    {
     "data": {
      "text/plain": [
       "4216812510"
      ]
     },
     "execution_count": 136,
     "metadata": {},
     "output_type": "execute_result"
    }
   ],
   "source": [
    "# generate the ESN reservoir\n",
    "nw.inSize = nw.outSize = 1 #input/output dimension\n",
    "nw.resSize = 300 #reservoir size (for prediction)\n",
    "#resSize = 1000 #reservoir size (for generation)\n",
    "nw.a = 0.3 # leaking rate \n",
    "nw.spectral_radius = 1.25\n",
    "nw.input_scaling = 1.\n",
    "nw.reg =  1e-8 #None # regularization coefficient, if None, pseudo-inverse\n",
    "#is use instead of ridge regression\n",
    "\n",
    "nw.mode = 'prediction'\n",
    "#mode = 'generative'\n",
    "\n",
    "#change the seed, reservoir performances should be averaged accross\n",
    "#at least 20 random instances (with the same set of parameters)\n",
    "seed = None #42\n",
    "\n",
    "set_seed(seed) #random.seed(seed) "
   ]
  },
  {
   "cell_type": "markdown",
   "metadata": {},
   "source": [
    "## Fonctions de traçages des courbes"
   ]
  },
  {
   "cell_type": "markdown",
   "metadata": {},
   "source": [
    "On définit un certain nombre de fonctions permettant de tracer des courbes un peu plus tard."
   ]
  },
  {
   "cell_type": "code",
   "execution_count": 137,
   "metadata": {
    "collapsed": true
   },
   "outputs": [],
   "source": [
    "# plot some signals\n",
    "def plot_figure1(nw) :\n",
    "    nw = calcul_reseau(nw)\n",
    "    plt.figure(1).clear()\n",
    "    plt.plot( nw.data[nw.trainLen+1:nw.trainLen+nw.testLen+1], 'g' )\n",
    "    plt.plot( nw.Y.T, 'b' )\n",
    "    plt.title('Target and generated signals $y(n)$ starting at $n=0$')\n",
    "    if mode == 'generative':\n",
    "        plt.legend(['Target signal', 'Free-running predicted signal'])\n",
    "    elif mode == 'prediction':\n",
    "        plt.legend(['Target signal', 'Predicted signal'])\n",
    "\n",
    "def plot_figure2(nw) :\n",
    "    plt.figure(2).clear()\n",
    "    #plot( X[0:20,0:200].T )\n",
    "    plt.plot( nw.X[0:2,0:2000].T ) #xav\n",
    "    plt.legend([\"biais\", \"input\"])\n",
    "    plt.ylim([-1.1,1.1])\n",
    "    plt.title('Input $\\mathbf{u}(n)$ and bias for 2000 time steps')\n",
    "\n",
    "def plot_figure3(nw,nb) :\n",
    "    nw = calcul_reseau(nw)\n",
    "    plt.figure(3).clear()\n",
    "    plt.plot( nw.X[2:2+nb,0:200].T )\n",
    "    plt.ylim([-1.1,1.1])\n",
    "    plt.title('Activations $\\mathbf{x}(n)$ from Reservoir Neurons ID 0 to '+str(nb-1)+' for 200 time steps')\n",
    "\n",
    "def plot_figure4(nw,num) :\n",
    "    nw = calcul_reseau(nw)\n",
    "    plt.figure(4).clear()\n",
    "    plt.plot( nw.X[2+num,:].T )\n",
    "    plt.ylim([-1.1,1.1])\n",
    "    plt.title('Activations $\\mathbf{x}(n)$ from Reservoir Neuron ID '+str(num)+'for all time steps')\n",
    "\n",
    "def plot_figure5(nw,l) :\n",
    "    nw = calcul_reseau(nw)\n",
    "    plt.figure(5).clear()\n",
    "    print(nw.X.shape)\n",
    "    plt.plot( nw.X[2:,0:l].T )\n",
    "    plt.ylim([-1.1,1.1])\n",
    "    plt.title('All reservoir activations $\\mathbf{x}(n)$ for '+str(l)+' time steps')\n",
    "\n",
    "def plot_figure6(nw) :\n",
    "    nw = calcul_reseau(nw)\n",
    "    plt.figure(6).clear()\n",
    "    plt.bar( range(1+nw.inSize+nw.resSize), nw.Wout.T )\n",
    "    plt.title('Output weights $\\mathbf{W}^{out}$')"
   ]
  },
  {
   "cell_type": "markdown",
   "metadata": {},
   "source": [
    "## Calcul du réseau en fonction des paramètres"
   ]
  },
  {
   "cell_type": "code",
   "execution_count": 138,
   "metadata": {
    "collapsed": false,
    "scrolled": true
   },
   "outputs": [],
   "source": [
    "def calcul_reseau(nw) :\n",
    "    \n",
    "    nw.a = float(nw.a)\n",
    "    nw.spectral_radius = float(nw.spectral_radius)\n",
    "    nw.input_scaling = float(nw.input_scaling)\n",
    "\n",
    "    #Génération aléatoire des poids entrée -> réservoir\n",
    "    nw.Win = (np.random.rand(nw.resSize,1+nw.inSize)-0.5) * nw.input_scaling\n",
    "    \n",
    "    #Génération aléatoire des poids entre les neurones du réservoir\n",
    "    nw.W = np.random.rand(nw.resSize,nw.resSize)-0.5 \n",
    "    \n",
    "    # Option 1 - direct scaling (quick&dirty, reservoir-specific):\n",
    "    #W *= 0.135 \n",
    "    # Option 2 - normalizing and setting spectral radius (correct, slow):\n",
    "    print('Computing spectral radius...',)\n",
    "    rhoW = max(abs(linalg.eig(nw.W)[0]))\n",
    "    #np_rhoW = max(abs(np.linalg.eig(W)[0]))\n",
    "    #print(\"Difference between scipy and numpy .eig() method: scipy=\"+str(rhoW)+\" numpy=\"+str(np_rhoW)\n",
    "    print('done.')\n",
    "    nw.W *= nw.spectral_radius / rhoW\n",
    "    \n",
    "    #Matrice \n",
    "    # allocated memory for the design (collected states) matrix\n",
    "    nw.X = np.zeros((1+nw.inSize+nw.resSize,nw.trainLen-nw.initLen))\n",
    "    # set the corresponding target matrix directly\n",
    "    nw.Yt = nw.data[None,nw.initLen+1:nw.trainLen+1]\n",
    "\n",
    "    # run the reservoir with the data and collect X\n",
    "    nw.x = np.zeros((nw.resSize,1))\n",
    "\n",
    "    #APPRENTISSAGE\n",
    "    for t in range(nw.trainLen):\n",
    "        #Données en entrée, issues de data\n",
    "        nw.u = nw.data[t]\n",
    "        \n",
    "        nw.x = (1-nw.a)*nw.x + nw.a*np.tanh( np.dot(nw.Win, np.vstack((1,nw.u)) ) + np.dot( nw.W, nw.x ) )\n",
    "        #Au bout d'un certain temps, on modifie X\n",
    "        if t >= nw.initLen:\n",
    "            nw.X[:,t-nw.initLen] = np.vstack((1,nw.u,nw.x))[:,0]\n",
    "    print(\"a :\", nw.a, \"- spectral radius :\", nw.spectral_radius, \"- input scaling :\", nw.input_scaling)\n",
    "\n",
    "    # train the output\n",
    "    nw.X_T = nw.X.T\n",
    "    if nw.reg is not None:\n",
    "        # use ridge regression (linear regression with regularization)\n",
    "        nw.Wout = np.dot(np.dot(nw.Yt,nw.X_T), linalg.inv(np.dot(nw.X,nw.X_T) + \\\n",
    "            nw.reg*np.eye(1+nw.inSize+nw.resSize) ) )\n",
    "        ### Just if you want to try the difference between scipy.linalg and numpy.linalg which does not give the same results\n",
    "            ### For more info, see https://www.scipy.org/scipylib/faq.html#why-both-numpy-linalg-and-scipy-linalg-what-s-the-difference\n",
    "    #    np_Wout = np.dot(np.dot(Yt,X_T), np.linalg.inv(np.dot(X,X_T) + \\\n",
    "    #        reg*np.eye(1+inSize+resSize) ) )\n",
    "    #    print(\"Difference between scipy and numpy .inv() method:\\n\\tscipy_mean_Wout=\"+\\\n",
    "    #        str(np.mean(Wout))+\"\\n\\tnumpy_mean_Wout=\"+str(np.mean(np_Wout))\n",
    "    else:\n",
    "        # use pseudo inverse\n",
    "        nw.Wout = np.dot(nw.Yt, linalg.pinv(nw.X) )\n",
    "\n",
    "    # run the trained ESN in a generative mode. no need to initialize here, \n",
    "    # because x is initialized with training data and we continue from there.\n",
    "    nw.Y = np.zeros((nw.outSize,nw.testLen))\n",
    "    nw.u = nw.data[nw.trainLen]\n",
    "    for t in range(nw.testLen):\n",
    "        nw.x = (1-nw.a)*nw.x + nw.a*np.tanh( np.dot(nw.Win, np.vstack((1,nw.u)) ) + np.dot(nw.W,nw.x ) )\n",
    "        nw.y = np.dot(nw.Wout, np.vstack((1,nw.u,nw.x)) )\n",
    "        nw.Y[:,t] = nw.y\n",
    "        if mode == 'generative':\n",
    "            # generative mode:\n",
    "            nw.u = nw.y\n",
    "        elif mode == 'prediction':\n",
    "            ## predictive mode:\n",
    "            nw.u = nw.data[nw.trainLen+t+1] \n",
    "        else:\n",
    "            raise(Exception, \"ERROR: 'mode' was not set correctly.\")\n",
    "\n",
    "    # compute MSE for the first errorLen time steps\n",
    "    errorLen = 500\n",
    "    mse = sum( np.square( nw.data[nw.trainLen+1:nw.trainLen+errorLen+1] - nw.Y[0,0:errorLen] ) ) / errorLen\n",
    "    print('MSE = ' + str( mse ))\n",
    "    \n",
    "    return(nw)"
   ]
  },
  {
   "cell_type": "markdown",
   "metadata": {},
   "source": [
    "## Graphique 1 : comparaison entre sorties attendues et sorties estimées"
   ]
  },
  {
   "cell_type": "code",
   "execution_count": 139,
   "metadata": {
    "collapsed": false
   },
   "outputs": [],
   "source": [
    "var1 = FloatSlider(value=300, min=0, max=1000, step=1, description='resSize')\n",
    "var2 = FloatSlider(value=100, min=0, max=2000, step=1, description='initLen')\n",
    "var3 = FloatSlider(value=2000, min=0, max=2000, step=1, description='trainLen')\n",
    "valid = Button(description='Valider')\n",
    "\n",
    "def trace_graph1(_) :\n",
    "    clear_output()\n",
    "    nw.resSize=int(var1.value)\n",
    "    nw.initLen=int(var2.value)\n",
    "    nw.trainLen=int(var3.value)\n",
    "    plot_figure1(nw)\n",
    "    \n",
    "valid.on_click(trace_graph1)\n",
    "    \n",
    "display(var1)\n",
    "display(var2)\n",
    "display(var3)\n",
    "display(valid)"
   ]
  },
  {
   "cell_type": "markdown",
   "metadata": {},
   "source": [
    "## Graphique 2 : affichage des données en entrée"
   ]
  },
  {
   "cell_type": "markdown",
   "metadata": {},
   "source": [
    "On affiche, pour les 2000 premières itérations, les valeurs en entrée et le biais (toujours égal à 1)."
   ]
  },
  {
   "cell_type": "code",
   "execution_count": 140,
   "metadata": {
    "collapsed": false
   },
   "outputs": [
    {
     "ename": "AttributeError",
     "evalue": "'Network' object has no attribute 'X'",
     "output_type": "error",
     "traceback": [
      "\u001b[1;31m---------------------------------------------------------------------------\u001b[0m",
      "\u001b[1;31mAttributeError\u001b[0m                            Traceback (most recent call last)",
      "\u001b[1;32m<ipython-input-140-ce4021d55eaa>\u001b[0m in \u001b[0;36m<module>\u001b[1;34m()\u001b[0m\n\u001b[1;32m----> 1\u001b[1;33m \u001b[0mplot_figure2\u001b[0m\u001b[1;33m(\u001b[0m\u001b[0mnw\u001b[0m\u001b[1;33m)\u001b[0m\u001b[1;33m\u001b[0m\u001b[0m\n\u001b[0m",
      "\u001b[1;32m<ipython-input-137-a2e699fda44b>\u001b[0m in \u001b[0;36mplot_figure2\u001b[1;34m(nw)\u001b[0m\n\u001b[0;32m     14\u001b[0m     \u001b[0mplt\u001b[0m\u001b[1;33m.\u001b[0m\u001b[0mfigure\u001b[0m\u001b[1;33m(\u001b[0m\u001b[1;36m2\u001b[0m\u001b[1;33m)\u001b[0m\u001b[1;33m.\u001b[0m\u001b[0mclear\u001b[0m\u001b[1;33m(\u001b[0m\u001b[1;33m)\u001b[0m\u001b[1;33m\u001b[0m\u001b[0m\n\u001b[0;32m     15\u001b[0m     \u001b[1;31m#plot( X[0:20,0:200].T )\u001b[0m\u001b[1;33m\u001b[0m\u001b[1;33m\u001b[0m\u001b[0m\n\u001b[1;32m---> 16\u001b[1;33m     \u001b[0mplt\u001b[0m\u001b[1;33m.\u001b[0m\u001b[0mplot\u001b[0m\u001b[1;33m(\u001b[0m \u001b[0mnw\u001b[0m\u001b[1;33m.\u001b[0m\u001b[0mX\u001b[0m\u001b[1;33m[\u001b[0m\u001b[1;36m0\u001b[0m\u001b[1;33m:\u001b[0m\u001b[1;36m2\u001b[0m\u001b[1;33m,\u001b[0m\u001b[1;36m0\u001b[0m\u001b[1;33m:\u001b[0m\u001b[1;36m2000\u001b[0m\u001b[1;33m]\u001b[0m\u001b[1;33m.\u001b[0m\u001b[0mT\u001b[0m \u001b[1;33m)\u001b[0m \u001b[1;31m#xav\u001b[0m\u001b[1;33m\u001b[0m\u001b[0m\n\u001b[0m\u001b[0;32m     17\u001b[0m     \u001b[0mplt\u001b[0m\u001b[1;33m.\u001b[0m\u001b[0mlegend\u001b[0m\u001b[1;33m(\u001b[0m\u001b[1;33m[\u001b[0m\u001b[1;34m\"biais\"\u001b[0m\u001b[1;33m,\u001b[0m \u001b[1;34m\"input\"\u001b[0m\u001b[1;33m]\u001b[0m\u001b[1;33m)\u001b[0m\u001b[1;33m\u001b[0m\u001b[0m\n\u001b[0;32m     18\u001b[0m     \u001b[0mplt\u001b[0m\u001b[1;33m.\u001b[0m\u001b[0mylim\u001b[0m\u001b[1;33m(\u001b[0m\u001b[1;33m[\u001b[0m\u001b[1;33m-\u001b[0m\u001b[1;36m1.1\u001b[0m\u001b[1;33m,\u001b[0m\u001b[1;36m1.1\u001b[0m\u001b[1;33m]\u001b[0m\u001b[1;33m)\u001b[0m\u001b[1;33m\u001b[0m\u001b[0m\n",
      "\u001b[1;31mAttributeError\u001b[0m: 'Network' object has no attribute 'X'"
     ]
    },
    {
     "data": {
      "text/plain": [
       "<matplotlib.figure.Figure at 0x19f893e1748>"
      ]
     },
     "metadata": {},
     "output_type": "display_data"
    }
   ],
   "source": [
    "plot_figure2(nw)"
   ]
  },
  {
   "cell_type": "markdown",
   "metadata": {},
   "source": [
    "## Graphique 3 : affichage des activations des neurones (total)"
   ]
  },
  {
   "cell_type": "code",
   "execution_count": 141,
   "metadata": {
    "collapsed": false
   },
   "outputs": [],
   "source": [
    "var4 = FloatSlider(value=0.5, min=0, max=1, step=0.05, description='alpha')\n",
    "var5 = FloatSlider(value=10, min=1, max=nw.resSize, step=1, description='nombre de neurones')\n",
    "valid = Button(description='Valider')\n",
    "\n",
    "def trace_graph3(_) :\n",
    "    clear_output()\n",
    "    nw.a=var4.value\n",
    "    nb=int(var5.value)\n",
    "    plot_figure3(nw,nb)\n",
    "    \n",
    "valid.on_click(trace_graph3)\n",
    "    \n",
    "display(var4)\n",
    "display(var5)\n",
    "display(valid)"
   ]
  },
  {
   "cell_type": "markdown",
   "metadata": {},
   "source": [
    "## Graphique 4 : Affichage des activations d'un neurone unique du réservoir"
   ]
  },
  {
   "cell_type": "code",
   "execution_count": 142,
   "metadata": {
    "collapsed": false
   },
   "outputs": [
    {
     "name": "stdout",
     "output_type": "stream",
     "text": [
      "Computing spectral radius...\n",
      "done.\n",
      "a : 0.5 - spectral radius : 1.25 - input scaling : 1.0\n",
      "MSE = 1.50840883002e-09\n"
     ]
    },
    {
     "data": {
      "image/png": "[encoded data removed]",
      "text/plain": [
       "<matplotlib.figure.Figure at 0x19f8aac8390>"
      ]
     },
     "metadata": {},
     "output_type": "display_data"
    }
   ],
   "source": [
    "var10 = FloatSlider(value=0.5, min=0, max=1, step=0.05, description='alpha')\n",
    "var11 = FloatSlider(value=2, min=0, max=nw.resSize-1, step=1, description='neuron ID')\n",
    "valid = Button(description='Valider')\n",
    "\n",
    "def trace_graph4(_) :\n",
    "    clear_output()\n",
    "    nw.a=var10.value\n",
    "    num=int(var11.value)\n",
    "    plot_figure4(nw,num)\n",
    "    \n",
    "valid.on_click(trace_graph4)\n",
    "    \n",
    "display(var10)\n",
    "display(var11)\n",
    "display(valid)"
   ]
  },
  {
   "cell_type": "markdown",
   "metadata": {},
   "source": [
    "## Graphique 5 : Affichage de toutes les activations du réservoir"
   ]
  },
  {
   "cell_type": "code",
   "execution_count": 143,
   "metadata": {
    "collapsed": false
   },
   "outputs": [],
   "source": [
    "var13 = FloatSlider(value=0.5, min=0, max=1, step=0.05, description='alpha')\n",
    "var14 = FloatSlider(value=300, min=0, max=2000, step=1, description='resSize')\n",
    "var15 = FloatSlider(value=200, min=0, max=nw.testLen-nw.initLen, step=10, description='time steps')\n",
    "valid = Button(description='Valider')\n",
    "\n",
    "def trace_graph5(_) :\n",
    "    clear_output()\n",
    "    nw.a=var13.value\n",
    "    nw.resSize=int(var14.value)\n",
    "    l=int(var15.value)\n",
    "    plot_figure5(nw,l)\n",
    "    \n",
    "valid.on_click(trace_graph5)\n",
    "    \n",
    "display(var13)\n",
    "display(var14)\n",
    "display(var15)\n",
    "display(valid)"
   ]
  },
  {
   "cell_type": "code",
   "execution_count": 144,
   "metadata": {
    "collapsed": false
   },
   "outputs": [],
   "source": [
    "var16 = FloatSlider(value=0.5, min=0, max=1, step=0.05, description='alpha')\n",
    "var17 = FloatSlider(value=300, min=0, max=1000, step=1, description='resSize')\n",
    "var18 = FloatSlider(value=1000, min=0, max=2000, step=1, description='trainLen')\n",
    "valid = Button(description='Valider')\n",
    "\n",
    "def trace_graph6(_) :\n",
    "    clear_output()\n",
    "    nw.a=var16.value\n",
    "    nw.resSize=int(var17.value)\n",
    "    nw.trainLen=int(var18.value)\n",
    "    plot_figure6(nw)\n",
    "    \n",
    "valid.on_click(trace_graph6)\n",
    "    \n",
    "display(var16)\n",
    "display(var17)\n",
    "display(var18)\n",
    "display(valid)"
   ]
  },
  {
   "cell_type": "code",
   "execution_count": null,
   "metadata": {
    "collapsed": true
   },
   "outputs": [],
   "source": []
  }
 ],
 "metadata": {
  "kernelspec": {
   "display_name": "Python 3",
   "language": "python",
   "name": "python3"
  },
  "language_info": {
   "codemirror_mode": {
    "name": "ipython",
    "version": 3
   },
   "file_extension": ".py",
   "mimetype": "text/x-python",
   "name": "python",
   "nbconvert_exporter": "python",
   "pygments_lexer": "ipython3",
   "version": "3.5.1"
  }
 },
 "nbformat": 4,
 "nbformat_minor": 0
}
